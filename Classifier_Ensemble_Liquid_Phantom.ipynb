{
  "nbformat": 4,
  "nbformat_minor": 0,
  "metadata": {
    "colab": {
      "provenance": [],
      "include_colab_link": true
    },
    "kernelspec": {
      "name": "python3",
      "display_name": "Python 3"
    },
    "language_info": {
      "name": "python"
    },
    "accelerator": "GPU",
    "gpuClass": "standard"
  },
  "cells": [
    {
      "cell_type": "markdown",
      "metadata": {
        "id": "view-in-github",
        "colab_type": "text"
      },
      "source": [
        "<a href=\"https://colab.research.google.com/github/smomtahe/ensemble-learning-absorption/blob/main/Classifier_Ensemble_Liquid_Phantom.ipynb\" target=\"_parent\"><img src=\"https://colab.research.google.com/assets/colab-badge.svg\" alt=\"Open In Colab\"/></a>"
      ]
    },
    {
      "cell_type": "code",
      "source": [
        "# you can use github\n",
        "%pip install git+https://github.com/tensorflow/docs"
      ],
      "metadata": {
        "id": "mvo7YCorpNfp",
        "colab": {
          "base_uri": "https://localhost:8080/"
        },
        "outputId": "a530e8d9-fbfd-498b-d370-4115b869588e"
      },
      "execution_count": null,
      "outputs": [
        {
          "output_type": "stream",
          "name": "stdout",
          "text": [
            "Looking in indexes: https://pypi.org/simple, https://us-python.pkg.dev/colab-wheels/public/simple/\n",
            "Collecting git+https://github.com/tensorflow/docs\n",
            "  Cloning https://github.com/tensorflow/docs to /tmp/pip-req-build-e2gg_wvh\n",
            "  Running command git clone --filter=blob:none --quiet https://github.com/tensorflow/docs /tmp/pip-req-build-e2gg_wvh\n",
            "  Resolved https://github.com/tensorflow/docs to commit a89b900f18bb647a8a5cba40997eacbe801c0fc0\n",
            "  Preparing metadata (setup.py) ... \u001b[?25l\u001b[?25hdone\n",
            "Requirement already satisfied: astor in /usr/local/lib/python3.8/dist-packages (from tensorflow-docs==0.0.0.dev0) (0.8.1)\n",
            "Requirement already satisfied: absl-py in /usr/local/lib/python3.8/dist-packages (from tensorflow-docs==0.0.0.dev0) (1.4.0)\n",
            "Requirement already satisfied: jinja2 in /usr/local/lib/python3.8/dist-packages (from tensorflow-docs==0.0.0.dev0) (2.11.3)\n",
            "Requirement already satisfied: nbformat in /usr/local/lib/python3.8/dist-packages (from tensorflow-docs==0.0.0.dev0) (5.7.3)\n",
            "Requirement already satisfied: protobuf in /usr/local/lib/python3.8/dist-packages (from tensorflow-docs==0.0.0.dev0) (3.19.6)\n",
            "Requirement already satisfied: pyyaml in /usr/local/lib/python3.8/dist-packages (from tensorflow-docs==0.0.0.dev0) (6.0)\n",
            "Requirement already satisfied: MarkupSafe>=0.23 in /usr/local/lib/python3.8/dist-packages (from jinja2->tensorflow-docs==0.0.0.dev0) (2.0.1)\n",
            "Requirement already satisfied: jsonschema>=2.6 in /usr/local/lib/python3.8/dist-packages (from nbformat->tensorflow-docs==0.0.0.dev0) (4.3.3)\n",
            "Requirement already satisfied: fastjsonschema in /usr/local/lib/python3.8/dist-packages (from nbformat->tensorflow-docs==0.0.0.dev0) (2.16.2)\n",
            "Requirement already satisfied: jupyter-core in /usr/local/lib/python3.8/dist-packages (from nbformat->tensorflow-docs==0.0.0.dev0) (5.2.0)\n",
            "Requirement already satisfied: traitlets>=5.1 in /usr/local/lib/python3.8/dist-packages (from nbformat->tensorflow-docs==0.0.0.dev0) (5.7.1)\n",
            "Requirement already satisfied: pyrsistent!=0.17.0,!=0.17.1,!=0.17.2,>=0.14.0 in /usr/local/lib/python3.8/dist-packages (from jsonschema>=2.6->nbformat->tensorflow-docs==0.0.0.dev0) (0.19.3)\n",
            "Requirement already satisfied: attrs>=17.4.0 in /usr/local/lib/python3.8/dist-packages (from jsonschema>=2.6->nbformat->tensorflow-docs==0.0.0.dev0) (22.2.0)\n",
            "Requirement already satisfied: importlib-resources>=1.4.0 in /usr/local/lib/python3.8/dist-packages (from jsonschema>=2.6->nbformat->tensorflow-docs==0.0.0.dev0) (5.12.0)\n",
            "Requirement already satisfied: platformdirs>=2.5 in /usr/local/lib/python3.8/dist-packages (from jupyter-core->nbformat->tensorflow-docs==0.0.0.dev0) (3.0.0)\n",
            "Requirement already satisfied: zipp>=3.1.0 in /usr/local/lib/python3.8/dist-packages (from importlib-resources>=1.4.0->jsonschema>=2.6->nbformat->tensorflow-docs==0.0.0.dev0) (3.14.0)\n"
          ]
        }
      ]
    },
    {
      "cell_type": "code",
      "execution_count": null,
      "metadata": {
        "id": "PbtCOBgKU1xU",
        "colab": {
          "base_uri": "https://localhost:8080/",
          "height": 206
        },
        "outputId": "74a862dd-4f35-4815-d767-199904d874e9"
      },
      "outputs": [
        {
          "output_type": "execute_result",
          "data": {
            "text/plain": [
              "   intralipid  ink  minR1R2     690us      a690  label\n",
              "0          72  0.0     4169  0.826553  0.000557    0.0\n",
              "1          72  0.4     2419  0.918287  0.006333    1.0\n",
              "2          72  0.8     1651  0.918101  0.009253    1.0\n",
              "3          72  1.2     1312  0.917915  0.012172    1.0\n",
              "4          72  1.6     1161  0.917729  0.015089    2.0"
            ],
            "text/html": [
              "\n",
              "  <div id=\"df-d5763e48-2640-4821-bfa7-a8d703d359ab\">\n",
              "    <div class=\"colab-df-container\">\n",
              "      <div>\n",
              "<style scoped>\n",
              "    .dataframe tbody tr th:only-of-type {\n",
              "        vertical-align: middle;\n",
              "    }\n",
              "\n",
              "    .dataframe tbody tr th {\n",
              "        vertical-align: top;\n",
              "    }\n",
              "\n",
              "    .dataframe thead th {\n",
              "        text-align: right;\n",
              "    }\n",
              "</style>\n",
              "<table border=\"1\" class=\"dataframe\">\n",
              "  <thead>\n",
              "    <tr style=\"text-align: right;\">\n",
              "      <th></th>\n",
              "      <th>intralipid</th>\n",
              "      <th>ink</th>\n",
              "      <th>minR1R2</th>\n",
              "      <th>690us</th>\n",
              "      <th>a690</th>\n",
              "      <th>label</th>\n",
              "    </tr>\n",
              "  </thead>\n",
              "  <tbody>\n",
              "    <tr>\n",
              "      <th>0</th>\n",
              "      <td>72</td>\n",
              "      <td>0.0</td>\n",
              "      <td>4169</td>\n",
              "      <td>0.826553</td>\n",
              "      <td>0.000557</td>\n",
              "      <td>0.0</td>\n",
              "    </tr>\n",
              "    <tr>\n",
              "      <th>1</th>\n",
              "      <td>72</td>\n",
              "      <td>0.4</td>\n",
              "      <td>2419</td>\n",
              "      <td>0.918287</td>\n",
              "      <td>0.006333</td>\n",
              "      <td>1.0</td>\n",
              "    </tr>\n",
              "    <tr>\n",
              "      <th>2</th>\n",
              "      <td>72</td>\n",
              "      <td>0.8</td>\n",
              "      <td>1651</td>\n",
              "      <td>0.918101</td>\n",
              "      <td>0.009253</td>\n",
              "      <td>1.0</td>\n",
              "    </tr>\n",
              "    <tr>\n",
              "      <th>3</th>\n",
              "      <td>72</td>\n",
              "      <td>1.2</td>\n",
              "      <td>1312</td>\n",
              "      <td>0.917915</td>\n",
              "      <td>0.012172</td>\n",
              "      <td>1.0</td>\n",
              "    </tr>\n",
              "    <tr>\n",
              "      <th>4</th>\n",
              "      <td>72</td>\n",
              "      <td>1.6</td>\n",
              "      <td>1161</td>\n",
              "      <td>0.917729</td>\n",
              "      <td>0.015089</td>\n",
              "      <td>2.0</td>\n",
              "    </tr>\n",
              "  </tbody>\n",
              "</table>\n",
              "</div>\n",
              "      <button class=\"colab-df-convert\" onclick=\"convertToInteractive('df-d5763e48-2640-4821-bfa7-a8d703d359ab')\"\n",
              "              title=\"Convert this dataframe to an interactive table.\"\n",
              "              style=\"display:none;\">\n",
              "        \n",
              "  <svg xmlns=\"http://www.w3.org/2000/svg\" height=\"24px\"viewBox=\"0 0 24 24\"\n",
              "       width=\"24px\">\n",
              "    <path d=\"M0 0h24v24H0V0z\" fill=\"none\"/>\n",
              "    <path d=\"M18.56 5.44l.94 2.06.94-2.06 2.06-.94-2.06-.94-.94-2.06-.94 2.06-2.06.94zm-11 1L8.5 8.5l.94-2.06 2.06-.94-2.06-.94L8.5 2.5l-.94 2.06-2.06.94zm10 10l.94 2.06.94-2.06 2.06-.94-2.06-.94-.94-2.06-.94 2.06-2.06.94z\"/><path d=\"M17.41 7.96l-1.37-1.37c-.4-.4-.92-.59-1.43-.59-.52 0-1.04.2-1.43.59L10.3 9.45l-7.72 7.72c-.78.78-.78 2.05 0 2.83L4 21.41c.39.39.9.59 1.41.59.51 0 1.02-.2 1.41-.59l7.78-7.78 2.81-2.81c.8-.78.8-2.07 0-2.86zM5.41 20L4 18.59l7.72-7.72 1.47 1.35L5.41 20z\"/>\n",
              "  </svg>\n",
              "      </button>\n",
              "      \n",
              "  <style>\n",
              "    .colab-df-container {\n",
              "      display:flex;\n",
              "      flex-wrap:wrap;\n",
              "      gap: 12px;\n",
              "    }\n",
              "\n",
              "    .colab-df-convert {\n",
              "      background-color: #E8F0FE;\n",
              "      border: none;\n",
              "      border-radius: 50%;\n",
              "      cursor: pointer;\n",
              "      display: none;\n",
              "      fill: #1967D2;\n",
              "      height: 32px;\n",
              "      padding: 0 0 0 0;\n",
              "      width: 32px;\n",
              "    }\n",
              "\n",
              "    .colab-df-convert:hover {\n",
              "      background-color: #E2EBFA;\n",
              "      box-shadow: 0px 1px 2px rgba(60, 64, 67, 0.3), 0px 1px 3px 1px rgba(60, 64, 67, 0.15);\n",
              "      fill: #174EA6;\n",
              "    }\n",
              "\n",
              "    [theme=dark] .colab-df-convert {\n",
              "      background-color: #3B4455;\n",
              "      fill: #D2E3FC;\n",
              "    }\n",
              "\n",
              "    [theme=dark] .colab-df-convert:hover {\n",
              "      background-color: #434B5C;\n",
              "      box-shadow: 0px 1px 3px 1px rgba(0, 0, 0, 0.15);\n",
              "      filter: drop-shadow(0px 1px 2px rgba(0, 0, 0, 0.3));\n",
              "      fill: #FFFFFF;\n",
              "    }\n",
              "  </style>\n",
              "\n",
              "      <script>\n",
              "        const buttonEl =\n",
              "          document.querySelector('#df-d5763e48-2640-4821-bfa7-a8d703d359ab button.colab-df-convert');\n",
              "        buttonEl.style.display =\n",
              "          google.colab.kernel.accessAllowed ? 'block' : 'none';\n",
              "\n",
              "        async function convertToInteractive(key) {\n",
              "          const element = document.querySelector('#df-d5763e48-2640-4821-bfa7-a8d703d359ab');\n",
              "          const dataTable =\n",
              "            await google.colab.kernel.invokeFunction('convertToInteractive',\n",
              "                                                     [key], {});\n",
              "          if (!dataTable) return;\n",
              "\n",
              "          const docLinkHtml = 'Like what you see? Visit the ' +\n",
              "            '<a target=\"_blank\" href=https://colab.research.google.com/notebooks/data_table.ipynb>data table notebook</a>'\n",
              "            + ' to learn more about interactive tables.';\n",
              "          element.innerHTML = '';\n",
              "          dataTable['output_type'] = 'display_data';\n",
              "          await google.colab.output.renderOutput(dataTable, element);\n",
              "          const docLink = document.createElement('div');\n",
              "          docLink.innerHTML = docLinkHtml;\n",
              "          element.appendChild(docLink);\n",
              "        }\n",
              "      </script>\n",
              "    </div>\n",
              "  </div>\n",
              "  "
            ]
          },
          "metadata": {},
          "execution_count": 37
        }
      ],
      "source": [
        "#importing the libraries\n",
        "import numpy as np # for math and arrays\n",
        "import pandas as pd # data from for the data.\n",
        "import seaborn as sns # for plotting.\n",
        "import statsmodels.api as sm\n",
        "\n",
        "# for plotting\n",
        "import matplotlib\n",
        "import matplotlib.pyplot as plt # for plotting data and creating different charts.\n",
        "\n",
        "# for the operating system operations e.g., creating a folder.\n",
        "import os\n",
        "\n",
        "from sklearn.metrics import mean_squared_error\n",
        "from sklearn.model_selection import train_test_split\n",
        "from sklearn.model_selection import StratifiedKFold\n",
        "from sklearn.metrics import classification_report\n",
        "from sklearn.metrics import accuracy_score\n",
        "from sklearn import metrics\n",
        "from sklearn.linear_model import LinearRegression\n",
        "from sklearn.preprocessing import PolynomialFeatures\n",
        "from sklearn.tree import DecisionTreeRegressor\n",
        "from sklearn.ensemble import RandomForestRegressor\n",
        "from sklearn.neighbors import KNeighborsRegressor\n",
        "from sklearn.svm import SVR\n",
        "\n",
        "%matplotlib inline\n",
        "# Tensorflow and Keras are two packages for creating neural network models.\n",
        "import tensorflow as tf\n",
        "from tensorflow import keras\n",
        "\n",
        "# import NN layers and other componenets.\n",
        "from tensorflow.keras.models import Sequential\n",
        "from tensorflow.keras.layers import Activation, Dense, BatchNormalization, Dropout\n",
        "from tensorflow.keras import optimizers\n",
        "from keras.optimizers import Adam\n",
        "\n",
        "# Tensorflow untils packages.\n",
        "import tensorflow_docs as tfdocs\n",
        "import tensorflow_docs.plots\n",
        "import tensorflow_docs.modeling\n",
        "import pathlib # for processing a path e.g., c:\\documents\\files\\test_ds.csv\n",
        "\n",
        "#upload data from my github\n",
        "data = pd.read_csv(\"https://raw.githubusercontent.com/smomtahe/ai/main/DL_LP_new_new.csv\")\n",
        "data.head()"
      ]
    },
    {
      "cell_type": "code",
      "source": [
        "'''\n",
        "plt.figure(figsize=(10,5))\n",
        "\n",
        "a = data['a690']\n",
        "minR1R2 = data['minR1R2']\n",
        "\n",
        "plt.plot(a[:8],minR1R2[:8],'b-o')\n",
        "plt.plot(a[8:16],minR1R2[8:16],'g-o')\n",
        "plt.plot(a[16:24],minR1R2[16:24],'y-o')\n",
        "plt.plot(a[24:32],minR1R2[24:32],'m-o')\n",
        "plt.plot(a[32:40],minR1R2[32:40],'r-o')\n",
        "\n",
        "plt.ylabel('minimum reflectance (mm^-2) ',size=13),plt.xlabel('absorption coefficients (mm^-1)',size=13)\n",
        "plt.legend(['72 mL', '90 mL','117 mL', '126 mL','144 mL'])\n",
        "'''\n"
      ],
      "metadata": {
        "colab": {
          "base_uri": "https://localhost:8080/",
          "height": 72
        },
        "id": "dIY7c9MRBI48",
        "outputId": "8aca10ac-9ec5-470f-d3aa-0c1301367d79"
      },
      "execution_count": null,
      "outputs": [
        {
          "output_type": "execute_result",
          "data": {
            "text/plain": [
              "\"\\nplt.figure(figsize=(10,5))\\n\\na = data['a690']\\nminR1R2 = data['minR1R2']\\n\\nplt.plot(a[:8],minR1R2[:8],'b-o')\\nplt.plot(a[8:16],minR1R2[8:16],'g-o')\\nplt.plot(a[16:24],minR1R2[16:24],'y-o')\\nplt.plot(a[24:32],minR1R2[24:32],'m-o')\\nplt.plot(a[32:40],minR1R2[32:40],'r-o')\\n\\nplt.ylabel('minimum reflectance (mm^-2) ',size=13),plt.xlabel('absorption coefficients (mm^-1)',size=13)\\nplt.legend(['72 mL', '90 mL','117 mL', '126 mL','144 mL'])\\n\""
            ],
            "application/vnd.google.colaboratory.intrinsic+json": {
              "type": "string"
            }
          },
          "metadata": {},
          "execution_count": 38
        }
      ]
    },
    {
      "cell_type": "code",
      "source": [
        "plt.figure(figsize=(10,5))\n",
        "\n",
        "X = data['minR1R2'].values\n",
        "X = X.reshape((-1, 1))\n",
        "x = X[17:]\n",
        "Y = data['a690'].values\n",
        "y = Y[17:]\n",
        "#15 -> %25\n",
        "x_test = X[:17]\n",
        "y_test=Y[:17]\n",
        "y_test=y_test.reshape((-1, 1))\n",
        "\n",
        "#x, x_test, y, y_test = train_test_split(x, y, test_size = 0.2, random_state = 100) #not good beacuse we need a test of various ua, not randomly distributed\n",
        "\n",
        "plt.scatter(x,y)\n",
        "plt.xlabel('minR1R2',size=10)\n",
        "plt.ylabel('a690',size=10)\n",
        "print(*y)"
      ],
      "metadata": {
        "id": "ZxGfisibqsKk",
        "colab": {
          "base_uri": "https://localhost:8080/",
          "height": 372
        },
        "outputId": "d6be5b29-d1d6-4625-9f95-56514c5e72e9"
      },
      "execution_count": null,
      "outputs": [
        {
          "output_type": "stream",
          "name": "stdout",
          "text": [
            "0.006257341 0.009112927 0.01196738 0.014820701 0.017672891 0.02052395 0.023373879 0.000608636 0.006242608 0.00908566 0.011927588 0.014768395 0.01760808 0.020446644 0.023284088 0.000625373 0.006213528 0.009031837 0.011849044 0.014665147 0.017480149 0.020294049 0.023106848 0.003689807 0.00682175 0.009952423 0.013081828 0.016209964 0.019336833 0.022462435 0.00367913 0.006782757 0.009885138 0.012211106 0.012986273 0.016086162 0.019184806 0.022282207 0.023830441 0.006725573 0.012846135 0.018961848 0.022017888 0.012800252 0.003648227 0.006669899 0.009690389 0.012709697 0.015727825 0.018744773 0.021760542\n"
          ]
        },
        {
          "output_type": "display_data",
          "data": {
            "text/plain": [
              "<Figure size 720x360 with 1 Axes>"
            ],
            "image/png": "[encoded data removed]"
          },
          "metadata": {
            "needs_background": "light"
          }
        }
      ]
    },
    {
      "cell_type": "code",
      "source": [
        "\n",
        "# define a function to normalize the data set.\n",
        "\n",
        "def norm(x):\n",
        "    return (x - np.min(x)) / (np.max(x) - np.min(x))\n",
        "x = norm(x)\n",
        "y = norm(y)\n",
        "x_test = norm(x_test)\n",
        "y_test = norm(y_test)\n",
        "print(*y_test)\n"
      ],
      "metadata": {
        "colab": {
          "base_uri": "https://localhost:8080/"
        },
        "id": "IBJhtierL955",
        "outputId": "b26b2e84-7157-4bc3-b164-1cd5eb0cf179"
      },
      "execution_count": null,
      "outputs": [
        {
          "output_type": "stream",
          "name": "stdout",
          "text": [
            "[0.] [0.24814464] [0.37358097] [0.4989664] [0.62430101] [0.7495848] [0.87481777] [1.] [0.00075869] [0.24682719] [0.37114262] [0.49540808] [0.61962362] [0.74378925] [0.86790495] [0.99197083] [0.00187139]\n"
          ]
        }
      ]
    },
    {
      "cell_type": "code",
      "source": [
        "plt.scatter(x_test,y_test)\n",
        "plt.xlabel('minR1R2',size=10)\n",
        "plt.ylabel('a690',size=10)"
      ],
      "metadata": {
        "colab": {
          "base_uri": "https://localhost:8080/",
          "height": 297
        },
        "id": "dSnqt44HMlYU",
        "outputId": "0ada5fc6-a799-471d-a3d8-6028952686b6"
      },
      "execution_count": null,
      "outputs": [
        {
          "output_type": "execute_result",
          "data": {
            "text/plain": [
              "Text(0, 0.5, 'a690')"
            ]
          },
          "metadata": {},
          "execution_count": 41
        },
        {
          "output_type": "display_data",
          "data": {
            "text/plain": [
              "<Figure size 432x288 with 1 Axes>"
            ],
            "image/png": "[encoded data removed]"
          },
          "metadata": {
            "needs_background": "light"
          }
        }
      ]
    },
    {
      "cell_type": "code",
      "source": [
        "# install boosting\n",
        "!pip install catboost\n",
        "!pip install xgboost\n",
        "!pip install lightgbm\n"
      ],
      "metadata": {
        "colab": {
          "base_uri": "https://localhost:8080/"
        },
        "id": "QhjAJw44HtLQ",
        "outputId": "7b6e58d8-a0ca-4a62-83e0-bce918a5893b"
      },
      "execution_count": null,
      "outputs": [
        {
          "output_type": "stream",
          "name": "stdout",
          "text": [
            "Looking in indexes: https://pypi.org/simple, https://us-python.pkg.dev/colab-wheels/public/simple/\n",
            "Requirement already satisfied: catboost in /usr/local/lib/python3.8/dist-packages (1.1.1)\n",
            "Requirement already satisfied: plotly in /usr/local/lib/python3.8/dist-packages (from catboost) (5.5.0)\n",
            "Requirement already satisfied: scipy in /usr/local/lib/python3.8/dist-packages (from catboost) (1.7.3)\n",
            "Requirement already satisfied: six in /usr/local/lib/python3.8/dist-packages (from catboost) (1.15.0)\n",
            "Requirement already satisfied: matplotlib in /usr/local/lib/python3.8/dist-packages (from catboost) (3.5.3)\n",
            "Requirement already satisfied: graphviz in /usr/local/lib/python3.8/dist-packages (from catboost) (0.10.1)\n",
            "Requirement already satisfied: pandas>=0.24.0 in /usr/local/lib/python3.8/dist-packages (from catboost) (1.3.5)\n",
            "Requirement already satisfied: numpy>=1.16.0 in /usr/local/lib/python3.8/dist-packages (from catboost) (1.22.4)\n",
            "Requirement already satisfied: python-dateutil>=2.7.3 in /usr/local/lib/python3.8/dist-packages (from pandas>=0.24.0->catboost) (2.8.2)\n",
            "Requirement already satisfied: pytz>=2017.3 in /usr/local/lib/python3.8/dist-packages (from pandas>=0.24.0->catboost) (2022.7.1)\n",
            "Requirement already satisfied: kiwisolver>=1.0.1 in /usr/local/lib/python3.8/dist-packages (from matplotlib->catboost) (1.4.4)\n",
            "Requirement already satisfied: fonttools>=4.22.0 in /usr/local/lib/python3.8/dist-packages (from matplotlib->catboost) (4.38.0)\n",
            "Requirement already satisfied: packaging>=20.0 in /usr/local/lib/python3.8/dist-packages (from matplotlib->catboost) (23.0)\n",
            "Requirement already satisfied: pillow>=6.2.0 in /usr/local/lib/python3.8/dist-packages (from matplotlib->catboost) (8.4.0)\n",
            "Requirement already satisfied: pyparsing>=2.2.1 in /usr/local/lib/python3.8/dist-packages (from matplotlib->catboost) (3.0.9)\n",
            "Requirement already satisfied: cycler>=0.10 in /usr/local/lib/python3.8/dist-packages (from matplotlib->catboost) (0.11.0)\n",
            "Requirement already satisfied: tenacity>=6.2.0 in /usr/local/lib/python3.8/dist-packages (from plotly->catboost) (8.2.1)\n",
            "Looking in indexes: https://pypi.org/simple, https://us-python.pkg.dev/colab-wheels/public/simple/\n",
            "Requirement already satisfied: xgboost in /usr/local/lib/python3.8/dist-packages (0.90)\n",
            "Requirement already satisfied: scipy in /usr/local/lib/python3.8/dist-packages (from xgboost) (1.7.3)\n",
            "Requirement already satisfied: numpy in /usr/local/lib/python3.8/dist-packages (from xgboost) (1.22.4)\n",
            "Looking in indexes: https://pypi.org/simple, https://us-python.pkg.dev/colab-wheels/public/simple/\n",
            "Requirement already satisfied: lightgbm in /usr/local/lib/python3.8/dist-packages (2.2.3)\n",
            "Requirement already satisfied: scipy in /usr/local/lib/python3.8/dist-packages (from lightgbm) (1.7.3)\n",
            "Requirement already satisfied: numpy in /usr/local/lib/python3.8/dist-packages (from lightgbm) (1.22.4)\n",
            "Requirement already satisfied: scikit-learn in /usr/local/lib/python3.8/dist-packages (from lightgbm) (1.0.2)\n",
            "Requirement already satisfied: joblib>=0.11 in /usr/local/lib/python3.8/dist-packages (from scikit-learn->lightgbm) (1.2.0)\n",
            "Requirement already satisfied: threadpoolctl>=2.0.0 in /usr/local/lib/python3.8/dist-packages (from scikit-learn->lightgbm) (3.1.0)\n"
          ]
        }
      ]
    },
    {
      "cell_type": "code",
      "source": [
        "from sklearn.svm import SVR\n",
        "from sklearn.ensemble import RandomForestRegressor, BaggingRegressor, AdaBoostRegressor, VotingRegressor, GradientBoostingRegressor\n",
        "from sklearn.neighbors import KNeighborsRegressor\n",
        "from sklearn.tree import DecisionTreeRegressor\n",
        "from sklearn.neural_network import MLPRegressor\n",
        "from sklearn.preprocessing import PolynomialFeatures\n",
        "from sklearn.pipeline import make_pipeline\n",
        "from sklearn.metrics import mean_squared_error, r2_score\n",
        "from xgboost import XGBRegressor\n",
        "from catboost import CatBoostRegressor\n",
        "from sklearn.ensemble import ExtraTreesRegressor\n",
        "\n",
        "import numpy as np\n",
        "\n",
        "# Define base estimators\n",
        "base1 = SVR(kernel='rbf')\n",
        "base2 = RandomForestRegressor(n_estimators=100, max_depth=10, max_features='sqrt', random_state=42)\n",
        "base3 = KNeighborsRegressor(n_neighbors=3)\n",
        "base4 = DecisionTreeRegressor(max_depth=5)\n",
        "base5 = MLPRegressor(hidden_layer_sizes=(64, 32,16), activation='relu', solver='adam', max_iter=1000, alpha=0.1)\n",
        "base6 = make_pipeline(PolynomialFeatures(degree=4), KNeighborsRegressor())\n",
        "base7 = XGBRegressor(n_estimators=100, max_depth=5, learning_rate=0.1, random_state=42)\n",
        "base8 = CatBoostRegressor(n_estimators=100, max_depth=5, learning_rate=0.1, random_state=42, verbose=0)\n",
        "base9 = ExtraTreesRegressor(n_estimators=100, max_depth=5, random_state=42)\n",
        "\n",
        "# Define ensemble models\n",
        "ensemble1 = BaggingRegressor(base_estimator=base1, n_estimators=10, random_state=42)\n",
        "ensemble2 = AdaBoostRegressor(base_estimator=base2, n_estimators=10, random_state=42)\n",
        "ensemble3 = BaggingRegressor(base_estimator=base3, n_estimators=10, random_state=42)\n",
        "ensemble4 = AdaBoostRegressor(base_estimator=base4, n_estimators=10, random_state=42)\n",
        "ensemble5 = BaggingRegressor(base_estimator=base5, n_estimators=10, random_state=42)\n",
        "ensemble6 = AdaBoostRegressor(base_estimator=base6, n_estimators=10, random_state=42)\n",
        "ensemble7 = GradientBoostingRegressor(n_estimators=100, max_depth=5, learning_rate=0.1, random_state=42)\n",
        "ensemble8 = VotingRegressor([('svr', base1), ('rf', base2), ('knn', base3), ('dt', base4), ('mlp', base5), ('polyknn', base6), ('xgb', base7), ('catboost', base8)])\n",
        "ensemble9 = BaggingRegressor(base_estimator=base9, n_estimators=10, random_state=42)\n",
        "\n",
        "# Fit models on training data\n",
        "ensemble1.fit(x, y)\n",
        "ensemble2.fit(x, y)\n",
        "ensemble3.fit(x, y)\n",
        "ensemble4.fit(x, y)\n",
        "ensemble5.fit(x, y)\n",
        "ensemble6.fit(x, y)\n",
        "ensemble7.fit(x, y)\n",
        "ensemble8.fit(x, y)\n",
        "ensemble9.fit(x, y)\n",
        "\n",
        "# Make predictions on test data\n",
        "y_pred1 = ensemble1.predict(x_test)\n",
        "y_pred2 = ensemble2.predict(x_test)\n",
        "y_pred3 = ensemble3.predict(x_test)\n",
        "y_pred4 = ensemble4.predict(x_test)\n",
        "y_pred5 = ensemble5.predict(x_test)\n",
        "y_pred6 = ensemble6.predict(x_test)\n",
        "y_pred7 = ensemble7.predict(x_test)\n",
        "y_pred8 = ensemble8.predict(x_test)\n",
        "y_pred9 = ensemble9.predict(x_test)\n",
        "\n",
        "# Compute mean squared error\n",
        "mse1 = mean_squared_error(y_test, y_pred1)\n",
        "mse2 = mean_squared_error(y_test, y_pred2)\n",
        "mse3 = mean_squared_error(y_test, y_pred3)\n",
        "mse4 = mean_squared_error(y_test, y_pred4)\n",
        "mse5 = mean_squared_error(y_test, y_pred5)\n",
        "mse6 = mean_squared_error(y_test, y_pred6)\n",
        "mse7 = mean_squared_error(y_test, y_pred7)\n",
        "mse8 = mean_squared_error(y_test, y_pred8)\n",
        "mse9 = mean_squared_error(y_test, y_pred9)\n",
        "\n",
        "print(\"MSE for ensemble 1:\", mse1)\n",
        "print(\"MSE for ensemble 2:\", mse2)\n",
        "print(\"MSE for ensemble 3:\", mse3)\n",
        "print(\"MSE for ensemble 4:\", mse4)\n",
        "print(\"MSE for ensemble 5:\", mse5)\n",
        "print(\"MSE for ensemble 6:\", mse6)\n",
        "print(\"MSE for ensemble 7:\", mse7)\n",
        "print(\"MSE for ensemble 8:\", mse8)\n",
        "print(\"MSE for ensemble 9:\", mse9)\n",
        "\n",
        "r2_1 = r2_score(y_test, y_pred1)\n",
        "r2_2 = r2_score(y_test, y_pred2)\n",
        "r2_3 = r2_score(y_test, y_pred3)\n",
        "r2_4 = r2_score(y_test, y_pred4)\n",
        "r2_5 = r2_score(y_test, y_pred5)\n",
        "r2_6 = r2_score(y_test, y_pred6)\n",
        "r2_7 = r2_score(y_test, y_pred7)\n",
        "r2_8 = r2_score(y_test, y_pred8)\n",
        "r2_9 = r2_score(y_test, y_pred9)\n",
        "\n",
        "# Print results\n",
        "print('Bagging ensemble with SVR R-squared score: %.2f' % r2_1)\n",
        "print('Boosting ensemble with Random Forest Regressor R-squared score: %.2f' % r2_2)\n",
        "print('Bagging ensemble with KNN Regressor R-squared score: %.2f' % r2_3)\n",
        "print('Boosting ensemble with Decision Tree Regressor R-squared score: %.2f' % r2_4)\n",
        "print('Bagging ensemble with MLP RegressorR-squared score: %.2f' % r2_5)\n",
        "print('Boosting ensemble with Polynomial Regressor R-squared score: %.2f' % r2_6)\n",
        "print('Bagging ensemble with CatBoostRegressor R-squared score: %.2f' % r2_7)\n",
        "print('Boosting ensemble with XGBRegressor R-squared score: %.2f' % r2_8)\n",
        "print('Bagging ensemble with Extra Trees Regressor R-squared score: %.2f' % r2_9)\n",
        "\n"
      ],
      "metadata": {
        "colab": {
          "base_uri": "https://localhost:8080/"
        },
        "id": "wvJULSkxHIOT",
        "outputId": "eacc8fa7-8fca-4b56-dc25-6bfb132e153e"
      },
      "execution_count": null,
      "outputs": [
        {
          "output_type": "stream",
          "name": "stdout",
          "text": [
            "[18:22:42] WARNING: /workspace/src/objective/regression_obj.cu:152: reg:linear is now deprecated in favor of reg:squarederror.\n",
            "MSE for ensemble 1: 0.015389559242600204\n",
            "MSE for ensemble 2: 0.017585991406999214\n",
            "MSE for ensemble 3: 0.008881337861692934\n",
            "MSE for ensemble 4: 0.026292446213939554\n",
            "MSE for ensemble 5: 0.01737986752054931\n",
            "MSE for ensemble 6: 0.01111137996304502\n",
            "MSE for ensemble 7: 0.02821433292132878\n",
            "MSE for ensemble 8: 0.009377475732928454\n",
            "MSE for ensemble 9: 0.007989050727191024\n",
            "Bagging ensemble with SVR R-squared score: 0.86\n",
            "Boosting ensemble with Random Forest Regressor R-squared score: 0.84\n",
            "Bagging ensemble with KNN Regressor R-squared score: 0.92\n",
            "Boosting ensemble with Decision Tree Regressor R-squared score: 0.75\n",
            "Bagging ensemble with MLP RegressorR-squared score: 0.84\n",
            "Boosting ensemble with Polynomial Regressor R-squared score: 0.90\n",
            "Bagging ensemble with CatBoostRegressor R-squared score: 0.74\n",
            "Boosting ensemble with XGBRegressor R-squared score: 0.91\n",
            "Bagging ensemble with Extra Trees Regressor R-squared score: 0.93\n"
          ]
        }
      ]
    },
    {
      "cell_type": "code",
      "source": [
        "y_ensemble1 = norm(y_pred1)\n",
        "y_ensemble2 = norm(y_pred2)\n",
        "y_ensemble3 = norm(y_pred3)\n",
        "y_ensemble4 = norm(y_pred4)\n",
        "y_ensemble5 = norm(y_pred5)\n",
        "y_ensemble6 = norm(y_pred6)\n",
        "y_ensemble7 = norm(y_pred7)\n",
        "y_ensemble8 = norm(y_pred8)\n",
        "y_ensemble9 = norm(y_pred9)"
      ],
      "metadata": {
        "id": "YftcJk0BVHuH"
      },
      "execution_count": null,
      "outputs": []
    },
    {
      "cell_type": "code",
      "source": [
        "# make class predictions with 4 best models\n",
        "predictions3 = (y_ensemble3 > 0.55).astype(int)\n",
        "print(*predictions3)\n",
        "predictions6 = (y_ensemble6 > 0.55).astype(int)\n",
        "print(*predictions6)\n",
        "predictions8 = (y_ensemble8 > 0.55).astype(int)\n",
        "print(*predictions8)\n",
        "predictions9 = (y_ensemble9 > 0.55).astype(int)\n",
        "print(*predictions9)"
      ],
      "metadata": {
        "colab": {
          "base_uri": "https://localhost:8080/"
        },
        "id": "emzZf4LfU9w3",
        "outputId": "cae56390-bfcc-4ab9-e23a-eede4025e8ed"
      },
      "execution_count": null,
      "outputs": [
        {
          "output_type": "stream",
          "name": "stdout",
          "text": [
            "0 0 0 0 1 1 1 1 0 0 0 0 1 1 1 1 0\n",
            "0 0 0 0 0 1 1 1 0 0 0 0 1 1 1 1 0\n",
            "0 0 0 1 1 1 1 1 0 0 0 1 1 1 1 1 0\n",
            "0 0 0 1 1 1 1 1 0 0 0 1 1 1 1 1 0\n"
          ]
        }
      ]
    },
    {
      "cell_type": "code",
      "source": [
        "y_test_type= (y_test > 0.5).astype(int)\n",
        "print(*y_test_type)"
      ],
      "metadata": {
        "colab": {
          "base_uri": "https://localhost:8080/"
        },
        "id": "sn0sQddO-uOv",
        "outputId": "ea58002d-5bb5-47b9-d73a-c75be8f06425"
      },
      "execution_count": null,
      "outputs": [
        {
          "output_type": "stream",
          "name": "stdout",
          "text": [
            "[0] [0] [0] [0] [1] [1] [1] [1] [0] [0] [0] [0] [1] [1] [1] [1] [0]\n"
          ]
        }
      ]
    },
    {
      "cell_type": "code",
      "source": [
        "from sklearn.metrics import confusion_matrix\n",
        "print(confusion_matrix(y_test_type,predictions3))\n",
        "from sklearn.metrics import plot_confusion_matrix\n",
        "\n",
        "import sklearn.metrics\n",
        "import math\n",
        "def matrix_metrix(y_test,test_predictions,beta):\n",
        "   CM = confusion_matrix(y_test_type,predictions3)\n",
        "   TN = CM[0][0]\n",
        "   FN = CM[1][0]\n",
        "   TP = CM[1][1]\n",
        "   FP = CM[0][1]\n",
        "   MSE = mean_squared_error(y_test_type,predictions3)\n",
        "   RMSE = np.sqrt(mean_squared_error(y_test_type,predictions3))\n",
        "   Population = TN+FN+TP+FP\n",
        "   Prevalence = round( (TP+FP) / Population,2)\n",
        "   Accuracy   = round( (TP+TN) / Population,4)\n",
        "   Sensitivity   = ( TP / (TP+FN))\n",
        "   Specificity   = ( TN / (TN+FP))\n",
        "   Precision  = round( TP / (TP+FP),4 )\n",
        "   NPV        = round( TN / (TN+FN),4 )\n",
        "   FDR        = round( FP / (TP+FP),4 )\n",
        "   FOR        = round( FN / (TN+FN),4 )\n",
        "   check_Pos  = Precision + FDR\n",
        "   check_Neg  = NPV + FOR\n",
        "   Recall     = round( TP / (TP+FN),4 )\n",
        "   FPR        = round( FP / (TN+FP),4 )\n",
        "   FNR        = round( FN / (TP+FN),4 )\n",
        "   TNR        = round( TN / (TN+FP),4 )\n",
        "   check_Pos2 = Recall + FNR\n",
        "   check_Neg2 = FPR + TNR\n",
        "   LRPos      = round( Recall/FPR,4 )\n",
        "   LRNeg      = round( FNR / TNR ,4 )\n",
        "   F1         = round ( 2 * ((Precision*Recall)/(Precision+Recall)),4)\n",
        "   FBeta      = round ( (1+beta**2)*((Precision*Recall)/((beta**2 * Precision)+ Recall)) ,4)\n",
        "   MCC        = round ( ((TP*TN)-(FP*FN))/math.sqrt((TP+FP)*(TP+FN)*(TN+FP)*(TN+FN))  ,4)\n",
        "   BM         = Recall+TNR-1\n",
        "   MK         = Precision+NPV-1\n",
        "   mat_met = pd.DataFrame({\n",
        "'Metric':['TP','TN','FP','FN','MSE','RMSE','Prevalence','Accuracy','Sensitivity','Specificity','Precision','NPV','FDR','FOR','check_Pos','check_Neg','Recall','FPR','FNR','TNR','check_Pos2','check_Neg2','LR+','LR-','F1','FBeta','MCC','BM','MK'],     'Value':[TP,TN,FP,FN,MSE,RMSE,Prevalence,Accuracy,Sensitivity,Specificity,Precision,NPV,FDR,FOR,check_Pos,check_Neg,Recall,FPR,FNR,TNR,check_Pos2,check_Neg2,LRPos,LRNeg,F1,FBeta,MCC,BM,MK]})\n",
        "   return (mat_met)\n",
        "beta = 0.4\n",
        "mat_met = matrix_metrix(y_test_type,predictions3,beta)\n",
        "print (mat_met)"
      ],
      "metadata": {
        "colab": {
          "base_uri": "https://localhost:8080/"
        },
        "id": "Q_JdJVdRVQm_",
        "outputId": "10206a7b-c0de-4461-b1d0-f24839554d68"
      },
      "execution_count": null,
      "outputs": [
        {
          "output_type": "stream",
          "name": "stdout",
          "text": [
            "[[9 0]\n",
            " [0 8]]\n",
            "         Metric  Value\n",
            "0            TP   8.00\n",
            "1            TN   9.00\n",
            "2            FP   0.00\n",
            "3            FN   0.00\n",
            "4           MSE   0.00\n",
            "5          RMSE   0.00\n",
            "6    Prevalence   0.47\n",
            "7      Accuracy   1.00\n",
            "8   Sensitivity   1.00\n",
            "9   Specificity   1.00\n",
            "10    Precision   1.00\n",
            "11          NPV   1.00\n",
            "12          FDR   0.00\n",
            "13          FOR   0.00\n",
            "14    check_Pos   1.00\n",
            "15    check_Neg   1.00\n",
            "16       Recall   1.00\n",
            "17          FPR   0.00\n",
            "18          FNR   0.00\n",
            "19          TNR   1.00\n",
            "20   check_Pos2   1.00\n",
            "21   check_Neg2   1.00\n",
            "22          LR+    inf\n",
            "23          LR-   0.00\n",
            "24           F1   1.00\n",
            "25        FBeta   1.00\n",
            "26          MCC   1.00\n",
            "27           BM   1.00\n",
            "28           MK   1.00\n"
          ]
        },
        {
          "output_type": "stream",
          "name": "stderr",
          "text": [
            "<ipython-input-48-1e8b06133a90>:32: RuntimeWarning: divide by zero encountered in double_scalars\n",
            "  LRPos      = round( Recall/FPR,4 )\n"
          ]
        }
      ]
    },
    {
      "cell_type": "code",
      "source": [
        "from sklearn.metrics import confusion_matrix\n",
        "print(confusion_matrix(y_test_type,predictions6))\n",
        "from sklearn.metrics import plot_confusion_matrix\n",
        "\n",
        "import sklearn.metrics\n",
        "import math\n",
        "def matrix_metrix(y_test,test_predictions,beta):\n",
        "   CM = confusion_matrix(y_test_type,predictions6)\n",
        "   TN = CM[0][0]\n",
        "   FN = CM[1][0]\n",
        "   TP = CM[1][1]\n",
        "   FP = CM[0][1]\n",
        "   MSE = mean_squared_error(y_test_type,predictions6)\n",
        "   RMSE = np.sqrt(mean_squared_error(y_test_type,predictions6))\n",
        "   Population = TN+FN+TP+FP\n",
        "   Prevalence = round( (TP+FP) / Population,2)\n",
        "   Accuracy   = round( (TP+TN) / Population,4)\n",
        "   Sensitivity   = ( TP / (TP+FN))\n",
        "   Specificity   = ( TN / (TN+FP))\n",
        "   Precision  = round( TP / (TP+FP),4 )\n",
        "   NPV        = round( TN / (TN+FN),4 )\n",
        "   FDR        = round( FP / (TP+FP),4 )\n",
        "   FOR        = round( FN / (TN+FN),4 )\n",
        "   check_Pos  = Precision + FDR\n",
        "   check_Neg  = NPV + FOR\n",
        "   Recall     = round( TP / (TP+FN),4 )\n",
        "   FPR        = round( FP / (TN+FP),4 )\n",
        "   FNR        = round( FN / (TP+FN),4 )\n",
        "   TNR        = round( TN / (TN+FP),4 )\n",
        "   check_Pos2 = Recall + FNR\n",
        "   check_Neg2 = FPR + TNR\n",
        "   LRPos      = round( Recall/FPR,4 )\n",
        "   LRNeg      = round( FNR / TNR ,4 )\n",
        "   F1         = round ( 2 * ((Precision*Recall)/(Precision+Recall)),4)\n",
        "   FBeta      = round ( (1+beta**2)*((Precision*Recall)/((beta**2 * Precision)+ Recall)) ,4)\n",
        "   MCC        = round ( ((TP*TN)-(FP*FN))/math.sqrt((TP+FP)*(TP+FN)*(TN+FP)*(TN+FN))  ,4)\n",
        "   BM         = Recall+TNR-1\n",
        "   MK         = Precision+NPV-1\n",
        "   mat_met = pd.DataFrame({\n",
        "'Metric':['TP','TN','FP','FN','MSE','RMSE','Prevalence','Accuracy','Sensitivity','Specificity','Precision','NPV','FDR','FOR','check_Pos','check_Neg','Recall','FPR','FNR','TNR','check_Pos2','check_Neg2','LR+','LR-','F1','FBeta','MCC','BM','MK'],     'Value':[TP,TN,FP,FN,MSE,RMSE,Prevalence,Accuracy,Sensitivity,Specificity,Precision,NPV,FDR,FOR,check_Pos,check_Neg,Recall,FPR,FNR,TNR,check_Pos2,check_Neg2,LRPos,LRNeg,F1,FBeta,MCC,BM,MK]})\n",
        "   return (mat_met)\n",
        "beta = 0.4\n",
        "mat_met = matrix_metrix(y_test_type,predictions6,beta)\n",
        "y_test_type = (y_test > 0.5).astype(int)\n",
        "print(*y_test_type)\n",
        "print (mat_met)"
      ],
      "metadata": {
        "colab": {
          "base_uri": "https://localhost:8080/"
        },
        "id": "pQtOqHIO-bgC",
        "outputId": "4a20f657-87ab-4963-b99e-58e8bf0311cf"
      },
      "execution_count": null,
      "outputs": [
        {
          "output_type": "stream",
          "name": "stdout",
          "text": [
            "[[9 0]\n",
            " [1 7]]\n",
            "[0] [0] [0] [0] [1] [1] [1] [1] [0] [0] [0] [0] [1] [1] [1] [1] [0]\n",
            "         Metric     Value\n",
            "0            TP  7.000000\n",
            "1            TN  9.000000\n",
            "2            FP  0.000000\n",
            "3            FN  1.000000\n",
            "4           MSE  0.058824\n",
            "5          RMSE  0.242536\n",
            "6    Prevalence  0.410000\n",
            "7      Accuracy  0.941200\n",
            "8   Sensitivity  0.875000\n",
            "9   Specificity  1.000000\n",
            "10    Precision  1.000000\n",
            "11          NPV  0.900000\n",
            "12          FDR  0.000000\n",
            "13          FOR  0.100000\n",
            "14    check_Pos  1.000000\n",
            "15    check_Neg  1.000000\n",
            "16       Recall  0.875000\n",
            "17          FPR  0.000000\n",
            "18          FNR  0.125000\n",
            "19          TNR  1.000000\n",
            "20   check_Pos2  1.000000\n",
            "21   check_Neg2  1.000000\n",
            "22          LR+       inf\n",
            "23          LR-  0.125000\n",
            "24           F1  0.933300\n",
            "25        FBeta  0.980700\n",
            "26          MCC  0.887400\n",
            "27           BM  0.875000\n",
            "28           MK  0.900000\n"
          ]
        },
        {
          "output_type": "stream",
          "name": "stderr",
          "text": [
            "<ipython-input-49-0b72d1233c50>:32: RuntimeWarning: divide by zero encountered in double_scalars\n",
            "  LRPos      = round( Recall/FPR,4 )\n"
          ]
        }
      ]
    },
    {
      "cell_type": "code",
      "source": [
        "from sklearn.metrics import confusion_matrix\n",
        "print(confusion_matrix(y_test_type,predictions8))\n",
        "from sklearn.metrics import plot_confusion_matrix\n",
        "\n",
        "import sklearn.metrics\n",
        "import math\n",
        "def matrix_metrix(y_test,test_predictions,beta):\n",
        "   CM = confusion_matrix(y_test_type,predictions8)\n",
        "   TN = CM[0][0]\n",
        "   FN = CM[1][0]\n",
        "   TP = CM[1][1]\n",
        "   FP = CM[0][1]\n",
        "   MSE = mean_squared_error(y_test_type,predictions8)\n",
        "   RMSE = np.sqrt(mean_squared_error(y_test_type,predictions8))\n",
        "   Population = TN+FN+TP+FP\n",
        "   Prevalence = round( (TP+FP) / Population,2)\n",
        "   Accuracy   = round( (TP+TN) / Population,4)\n",
        "   Sensitivity   = ( TP / (TP+FN))\n",
        "   Specificity   = ( TN / (TN+FP))\n",
        "   Precision  = round( TP / (TP+FP),4 )\n",
        "   NPV        = round( TN / (TN+FN),4 )\n",
        "   FDR        = round( FP / (TP+FP),4 )\n",
        "   FOR        = round( FN / (TN+FN),4 )\n",
        "   check_Pos  = Precision + FDR\n",
        "   check_Neg  = NPV + FOR\n",
        "   Recall     = round( TP / (TP+FN),4 )\n",
        "   FPR        = round( FP / (TN+FP),4 )\n",
        "   FNR        = round( FN / (TP+FN),4 )\n",
        "   TNR        = round( TN / (TN+FP),4 )\n",
        "   check_Pos2 = Recall + FNR\n",
        "   check_Neg2 = FPR + TNR\n",
        "   LRPos      = round( Recall/FPR,4 )\n",
        "   LRNeg      = round( FNR / TNR ,4 )\n",
        "   F1         = round ( 2 * ((Precision*Recall)/(Precision+Recall)),4)\n",
        "   FBeta      = round ( (1+beta**2)*((Precision*Recall)/((beta**2 * Precision)+ Recall)) ,4)\n",
        "   MCC        = round ( ((TP*TN)-(FP*FN))/math.sqrt((TP+FP)*(TP+FN)*(TN+FP)*(TN+FN))  ,4)\n",
        "   BM         = Recall+TNR-1\n",
        "   MK         = Precision+NPV-1\n",
        "   mat_met = pd.DataFrame({\n",
        "'Metric':['TP','TN','FP','FN','MSE','RMSE','Prevalence','Accuracy','Sensitivity','Specificity','Precision','NPV','FDR','FOR','check_Pos','check_Neg','Recall','FPR','FNR','TNR','check_Pos2','check_Neg2','LR+','LR-','F1','FBeta','MCC','BM','MK'],     'Value':[TP,TN,FP,FN,MSE,RMSE,Prevalence,Accuracy,Sensitivity,Specificity,Precision,NPV,FDR,FOR,check_Pos,check_Neg,Recall,FPR,FNR,TNR,check_Pos2,check_Neg2,LRPos,LRNeg,F1,FBeta,MCC,BM,MK]})\n",
        "   return (mat_met)\n",
        "beta = 0.4\n",
        "mat_met = matrix_metrix(y_test_type,predictions8,beta)\n",
        "y_test_type = (y_test > 0.5).astype(int)\n",
        "print(*y_test_type)\n",
        "print (mat_met)"
      ],
      "metadata": {
        "colab": {
          "base_uri": "https://localhost:8080/"
        },
        "id": "4oo4gGWfIyC0",
        "outputId": "9010a13b-3bb6-4ce6-eeb7-9d1d75c0698a"
      },
      "execution_count": null,
      "outputs": [
        {
          "output_type": "stream",
          "name": "stdout",
          "text": [
            "[[7 2]\n",
            " [0 8]]\n",
            "[0] [0] [0] [0] [1] [1] [1] [1] [0] [0] [0] [0] [1] [1] [1] [1] [0]\n",
            "         Metric     Value\n",
            "0            TP  8.000000\n",
            "1            TN  7.000000\n",
            "2            FP  2.000000\n",
            "3            FN  0.000000\n",
            "4           MSE  0.117647\n",
            "5          RMSE  0.342997\n",
            "6    Prevalence  0.590000\n",
            "7      Accuracy  0.882400\n",
            "8   Sensitivity  1.000000\n",
            "9   Specificity  0.777778\n",
            "10    Precision  0.800000\n",
            "11          NPV  1.000000\n",
            "12          FDR  0.200000\n",
            "13          FOR  0.000000\n",
            "14    check_Pos  1.000000\n",
            "15    check_Neg  1.000000\n",
            "16       Recall  1.000000\n",
            "17          FPR  0.222200\n",
            "18          FNR  0.000000\n",
            "19          TNR  0.777800\n",
            "20   check_Pos2  1.000000\n",
            "21   check_Neg2  1.000000\n",
            "22          LR+  4.500500\n",
            "23          LR-  0.000000\n",
            "24           F1  0.888900\n",
            "25        FBeta  0.822700\n",
            "26          MCC  0.788800\n",
            "27           BM  0.777800\n",
            "28           MK  0.800000\n"
          ]
        }
      ]
    },
    {
      "cell_type": "code",
      "source": [
        "from sklearn.metrics import confusion_matrix\n",
        "print(confusion_matrix(y_test_type,predictions9))\n",
        "from sklearn.metrics import plot_confusion_matrix\n",
        "\n",
        "import sklearn.metrics\n",
        "import math\n",
        "def matrix_metrix(y_test,test_predictions,beta):\n",
        "   CM = confusion_matrix(y_test_type,predictions9)\n",
        "   TN = CM[0][0]\n",
        "   FN = CM[1][0]\n",
        "   TP = CM[1][1]\n",
        "   FP = CM[0][1]\n",
        "   MSE = mean_squared_error(y_test_type,predictions9)\n",
        "   RMSE = np.sqrt(mean_squared_error(y_test_type,predictions9))\n",
        "   Population = TN+FN+TP+FP\n",
        "   Prevalence = round( (TP+FP) / Population,2)\n",
        "   Accuracy   = round( (TP+TN) / Population,4)\n",
        "   Sensitivity   = ( TP / (TP+FN))\n",
        "   Specificity   = ( TN / (TN+FP))\n",
        "   Precision  = round( TP / (TP+FP),4 )\n",
        "   NPV        = round( TN / (TN+FN),4 )\n",
        "   FDR        = round( FP / (TP+FP),4 )\n",
        "   FOR        = round( FN / (TN+FN),4 )\n",
        "   check_Pos  = Precision + FDR\n",
        "   check_Neg  = NPV + FOR\n",
        "   Recall     = round( TP / (TP+FN),4 )\n",
        "   FPR        = round( FP / (TN+FP),4 )\n",
        "   FNR        = round( FN / (TP+FN),4 )\n",
        "   TNR        = round( TN / (TN+FP),4 )\n",
        "   check_Pos2 = Recall + FNR\n",
        "   check_Neg2 = FPR + TNR\n",
        "   LRPos      = round( Recall/FPR,4 )\n",
        "   LRNeg      = round( FNR / TNR ,4 )\n",
        "   F1         = round ( 2 * ((Precision*Recall)/(Precision+Recall)),4)\n",
        "   FBeta      = round ( (1+beta**2)*((Precision*Recall)/((beta**2 * Precision)+ Recall)) ,4)\n",
        "   MCC        = round ( ((TP*TN)-(FP*FN))/math.sqrt((TP+FP)*(TP+FN)*(TN+FP)*(TN+FN))  ,4)\n",
        "   BM         = Recall+TNR-1\n",
        "   MK         = Precision+NPV-1\n",
        "   mat_met = pd.DataFrame({\n",
        "'Metric':['TP','TN','FP','FN','MSE','RMSE','Prevalence','Accuracy','Sensitivity','Specificity','Precision','NPV','FDR','FOR','check_Pos','check_Neg','Recall','FPR','FNR','TNR','check_Pos2','check_Neg2','LR+','LR-','F1','FBeta','MCC','BM','MK'],     'Value':[TP,TN,FP,FN,MSE,RMSE,Prevalence,Accuracy,Sensitivity,Specificity,Precision,NPV,FDR,FOR,check_Pos,check_Neg,Recall,FPR,FNR,TNR,check_Pos2,check_Neg2,LRPos,LRNeg,F1,FBeta,MCC,BM,MK]})\n",
        "   return (mat_met)\n",
        "beta = 0.4\n",
        "mat_met = matrix_metrix(y_test_type,predictions9,beta)\n",
        "y_test_type = (y_test > 0.5).astype(int)\n",
        "print(*y_test_type)\n",
        "print (mat_met)"
      ],
      "metadata": {
        "colab": {
          "base_uri": "https://localhost:8080/"
        },
        "id": "voOCbUm8-gxv",
        "outputId": "514acb86-70c0-4d36-e70e-2ade7b3986c2"
      },
      "execution_count": null,
      "outputs": [
        {
          "output_type": "stream",
          "name": "stdout",
          "text": [
            "[[7 2]\n",
            " [0 8]]\n",
            "[0] [0] [0] [0] [1] [1] [1] [1] [0] [0] [0] [0] [1] [1] [1] [1] [0]\n",
            "         Metric     Value\n",
            "0            TP  8.000000\n",
            "1            TN  7.000000\n",
            "2            FP  2.000000\n",
            "3            FN  0.000000\n",
            "4           MSE  0.117647\n",
            "5          RMSE  0.342997\n",
            "6    Prevalence  0.590000\n",
            "7      Accuracy  0.882400\n",
            "8   Sensitivity  1.000000\n",
            "9   Specificity  0.777778\n",
            "10    Precision  0.800000\n",
            "11          NPV  1.000000\n",
            "12          FDR  0.200000\n",
            "13          FOR  0.000000\n",
            "14    check_Pos  1.000000\n",
            "15    check_Neg  1.000000\n",
            "16       Recall  1.000000\n",
            "17          FPR  0.222200\n",
            "18          FNR  0.000000\n",
            "19          TNR  0.777800\n",
            "20   check_Pos2  1.000000\n",
            "21   check_Neg2  1.000000\n",
            "22          LR+  4.500500\n",
            "23          LR-  0.000000\n",
            "24           F1  0.888900\n",
            "25        FBeta  0.822700\n",
            "26          MCC  0.788800\n",
            "27           BM  0.777800\n",
            "28           MK  0.800000\n"
          ]
        }
      ]
    }
  ]
}